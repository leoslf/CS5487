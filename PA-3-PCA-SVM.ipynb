{
 "cells": [
  {
   "cell_type": "code",
   "execution_count": 33,
   "metadata": {},
   "outputs": [],
   "source": [
    "import math\n",
    "import numpy as np\n",
    "import pandas as pd\n",
    "import matplotlib.pyplot as plt\n",
    "from cvxopt import solvers,matrix"
   ]
  },
  {
   "cell_type": "code",
   "execution_count": 34,
   "metadata": {},
   "outputs": [],
   "source": [
    "from sklearn.datasets import fetch_openml\n",
    "from sklearn.decomposition import PCA\n",
    "from sklearn.preprocessing import StandardScaler\n",
    "from sklearn import metrics\n",
    "from sklearn.model_selection import train_test_split\n",
    "from sklearn.metrics import classification_report, confusion_matrix"
   ]
  },
  {
   "cell_type": "code",
   "execution_count": 35,
   "metadata": {},
   "outputs": [],
   "source": [
    "f_digits_vec = \"digits4000_txt/digits4000_digits_vec.txt\"\n",
    "f_digits_label = \"digits4000_txt/digits4000_digits_labels.txt\"\n",
    "f_digits_trainset = \"digits4000_txt/digits4000_trainset.txt\"\n",
    "f_digits_testset = \"digits4000_txt/digits4000_testset.txt\""
   ]
  },
  {
   "cell_type": "code",
   "execution_count": 36,
   "metadata": {},
   "outputs": [],
   "source": [
    "digits_vec = np.loadtxt(f_digits_vec)\n",
    "digits_label = np.loadtxt(f_digits_label)\n",
    "digits_trainset = np.loadtxt(f_digits_trainset)\n",
    "digits_testset = np.loadtxt(f_digits_testset)"
   ]
  },
  {
   "cell_type": "code",
   "execution_count": 37,
   "metadata": {},
   "outputs": [
    {
     "name": "stdout",
     "output_type": "stream",
     "text": [
      "(4000, 784)\n",
      "(4000,)\n",
      "(2000, 2)\n",
      "(2000, 2)\n"
     ]
    }
   ],
   "source": [
    "print(digits_vec.shape)\n",
    "print(digits_label.shape)\n",
    "print(digits_trainset.shape)\n",
    "print(digits_testset.shape)"
   ]
  },
  {
   "cell_type": "code",
   "execution_count": 38,
   "metadata": {},
   "outputs": [],
   "source": [
    "# test_size: what proportion of original data is used for test set\n",
    "train_img, test_img, train_lbl, test_lbl = train_test_split(\n",
    "    digits_vec, digits_label, test_size=1/5.0, random_state=0)"
   ]
  },
  {
   "cell_type": "code",
   "execution_count": 39,
   "metadata": {},
   "outputs": [
    {
     "name": "stdout",
     "output_type": "stream",
     "text": [
      "(3200, 784)\n",
      "(800, 784)\n"
     ]
    }
   ],
   "source": [
    "print(train_img.shape)\n",
    "print(test_img.shape)"
   ]
  },
  {
   "cell_type": "code",
   "execution_count": 40,
   "metadata": {},
   "outputs": [],
   "source": [
    "from sklearn.preprocessing import StandardScaler\n",
    "scaler = StandardScaler()\n",
    "\n",
    "# Fit on training set only.\n",
    "scaler.fit(train_img)\n",
    "\n",
    "# Apply transform to both the training set and the test set.\n",
    "train_img = scaler.transform(train_img)\n",
    "test_img = scaler.transform(test_img)"
   ]
  },
  {
   "cell_type": "code",
   "execution_count": 41,
   "metadata": {},
   "outputs": [],
   "source": [
    "from sklearn.decomposition import PCA"
   ]
  },
  {
   "cell_type": "code",
   "execution_count": 42,
   "metadata": {},
   "outputs": [
    {
     "data": {
      "image/png": "[encoded data removed]",
      "text/plain": [
       "<Figure size 432x288 with 1 Axes>"
      ]
     },
     "metadata": {
      "needs_background": "light"
     },
     "output_type": "display_data"
    }
   ],
   "source": [
    "# PCA for dimensionality redcution (non-visualization)\n",
    "pca = PCA().fit(train_img)\n",
    "plt.plot(np.cumsum(pca.explained_variance_ratio_))\n",
    "plt.xlabel('number of components')\n",
    "plt.ylabel('cumulative explained variance');"
   ]
  },
  {
   "cell_type": "code",
   "execution_count": 43,
   "metadata": {},
   "outputs": [],
   "source": [
    "pca_90 = PCA(0.9)\n",
    "pca_92 = PCA(0.92)\n",
    "pca_94 = PCA(0.94)\n",
    "pca_96 = PCA(0.96)\n",
    "pca_98 = PCA(0.98)"
   ]
  },
  {
   "cell_type": "code",
   "execution_count": 44,
   "metadata": {},
   "outputs": [
    {
     "data": {
      "text/plain": [
       "PCA(copy=True, iterated_power='auto', n_components=0.98, random_state=None,\n",
       "    svd_solver='auto', tol=0.0, whiten=False)"
      ]
     },
     "execution_count": 44,
     "metadata": {},
     "output_type": "execute_result"
    }
   ],
   "source": [
    "pca_90.fit(train_img)\n",
    "pca_92.fit(train_img)\n",
    "pca_94.fit(train_img)\n",
    "pca_96.fit(train_img)\n",
    "pca_98.fit(train_img)"
   ]
  },
  {
   "cell_type": "code",
   "execution_count": 45,
   "metadata": {},
   "outputs": [
    {
     "name": "stdout",
     "output_type": "stream",
     "text": [
      "172\n",
      "196\n",
      "228\n",
      "276\n",
      "362\n"
     ]
    }
   ],
   "source": [
    "#show the numbers of components and then feed into SVM\n",
    "#Record the execution time of SVM in each number of components\n",
    "print(pca_90.n_components_)\n",
    "print(pca_92.n_components_)\n",
    "print(pca_94.n_components_)\n",
    "print(pca_96.n_components_)\n",
    "print(pca_98.n_components_)"
   ]
  },
  {
   "cell_type": "code",
   "execution_count": 46,
   "metadata": {},
   "outputs": [],
   "source": [
    "train_img = pca_90.transform(train_img)\n",
    "test_img = pca_90.transform(test_img)"
   ]
  },
  {
   "cell_type": "code",
   "execution_count": 47,
   "metadata": {},
   "outputs": [
    {
     "name": "stdout",
     "output_type": "stream",
     "text": [
      "(3200, 172)\n"
     ]
    }
   ],
   "source": [
    "print(train_img.shape)"
   ]
  },
  {
   "cell_type": "code",
   "execution_count": 48,
   "metadata": {},
   "outputs": [
    {
     "name": "stderr",
     "output_type": "stream",
     "text": [
      "/Users/alfred/anaconda3/lib/python3.7/site-packages/sklearn/svm/base.py:193: FutureWarning: The default value of gamma will change from 'auto' to 'scale' in version 0.22 to account better for unscaled features. Set gamma explicitly to 'auto' or 'scale' to avoid this warning.\n",
      "  \"avoid this warning.\", FutureWarning)\n",
      "/Users/alfred/anaconda3/lib/python3.7/site-packages/sklearn/svm/base.py:193: FutureWarning: The default value of gamma will change from 'auto' to 'scale' in version 0.22 to account better for unscaled features. Set gamma explicitly to 'auto' or 'scale' to avoid this warning.\n",
      "  \"avoid this warning.\", FutureWarning)\n",
      "/Users/alfred/anaconda3/lib/python3.7/site-packages/sklearn/svm/base.py:193: FutureWarning: The default value of gamma will change from 'auto' to 'scale' in version 0.22 to account better for unscaled features. Set gamma explicitly to 'auto' or 'scale' to avoid this warning.\n",
      "  \"avoid this warning.\", FutureWarning)\n"
     ]
    },
    {
     "data": {
      "text/plain": [
       "SVC(C=1.0, cache_size=200, class_weight=None, coef0=0.0,\n",
       "    decision_function_shape='ovr', degree=3, gamma='auto_deprecated',\n",
       "    kernel='sigmoid', max_iter=-1, probability=False, random_state=None,\n",
       "    shrinking=True, tol=0.001, verbose=False)"
      ]
     },
     "execution_count": 48,
     "metadata": {},
     "output_type": "execute_result"
    }
   ],
   "source": [
    "#Compare the performance between different kernals, and then select the best one\n",
    "from sklearn.svm import SVC\n",
    "#polynomial\n",
    "svclassifier_poly = SVC(kernel='poly', degree=8)\n",
    "svclassifier_poly.fit(train_img, train_lbl)\n",
    "#Gaussian Kernel\n",
    "svclassifier_rbf = SVC(kernel='rbf')\n",
    "svclassifier_rbf.fit(train_img, train_lbl)\n",
    "#sigmoid Kernel\n",
    "svclassifier_sigmoid = SVC(kernel='sigmoid')\n",
    "svclassifier_sigmoid.fit(train_img, train_lbl)\n"
   ]
  },
  {
   "cell_type": "code",
   "execution_count": 49,
   "metadata": {},
   "outputs": [],
   "source": [
    "test_pred_poly = svclassifier_poly.predict(test_img)\n",
    "test_pred_rbf = svclassifier_rbf.predict(test_img)\n",
    "test_pred_sigmoid = svclassifier_sigmoid.predict(test_img)"
   ]
  },
  {
   "cell_type": "code",
   "execution_count": 50,
   "metadata": {},
   "outputs": [
    {
     "name": "stdout",
     "output_type": "stream",
     "text": [
      "[[59  2  0  0 19  0  0  0  0  1]\n",
      " [ 0 77  0  0  3  0  0  0  0  0]\n",
      " [ 0  0 48  0 45  0  0  3  0  1]\n",
      " [ 0  1  1 37 22  1  0  0  2  0]\n",
      " [ 0  0  1  0 83  0  0  1  0  2]\n",
      " [ 0  0  0  1 34 43  2  0  1  1]\n",
      " [ 0  0  0  0 30  1 54  0  0  0]\n",
      " [ 0  0  0  0 11  0  0 47  0  4]\n",
      " [ 0  1  1  0 17  1  0  0 61  1]\n",
      " [ 0  0  0  0 22  0  0  1  0 57]]\n",
      "              precision    recall  f1-score   support\n",
      "\n",
      "         0.0       1.00      0.73      0.84        81\n",
      "         1.0       0.95      0.96      0.96        80\n",
      "         2.0       0.94      0.49      0.65        97\n",
      "         3.0       0.97      0.58      0.73        64\n",
      "         4.0       0.29      0.95      0.45        87\n",
      "         5.0       0.93      0.52      0.67        82\n",
      "         6.0       0.96      0.64      0.77        85\n",
      "         7.0       0.90      0.76      0.82        62\n",
      "         8.0       0.95      0.74      0.84        82\n",
      "         9.0       0.85      0.71      0.78        80\n",
      "\n",
      "    accuracy                           0.71       800\n",
      "   macro avg       0.88      0.71      0.75       800\n",
      "weighted avg       0.87      0.71      0.74       800\n",
      "\n"
     ]
    }
   ],
   "source": [
    "print(confusion_matrix(test_lbl, test_pred_poly))\n",
    "print(classification_report(test_lbl, test_pred_poly))"
   ]
  },
  {
   "cell_type": "code",
   "execution_count": 51,
   "metadata": {},
   "outputs": [
    {
     "name": "stdout",
     "output_type": "stream",
     "text": [
      "[[77  0  3  0  0  0  1  0  0  0]\n",
      " [ 0 77  2  0  0  0  0  0  1  0]\n",
      " [ 0  0 96  0  1  0  0  0  0  0]\n",
      " [ 0  0  9 50  0  2  0  1  1  1]\n",
      " [ 0  0 10  0 75  1  0  0  1  0]\n",
      " [ 0  0  7  3  0 70  2  0  0  0]\n",
      " [ 0  0 13  0  0  0 72  0  0  0]\n",
      " [ 0  0  6  0  0  0  1 54  0  1]\n",
      " [ 1  0  8  0  0  2  0  1 70  0]\n",
      " [ 0  0  4  2  1  1  0  4  1 67]]\n",
      "              precision    recall  f1-score   support\n",
      "\n",
      "         0.0       0.99      0.95      0.97        81\n",
      "         1.0       1.00      0.96      0.98        80\n",
      "         2.0       0.61      0.99      0.75        97\n",
      "         3.0       0.91      0.78      0.84        64\n",
      "         4.0       0.97      0.86      0.91        87\n",
      "         5.0       0.92      0.85      0.89        82\n",
      "         6.0       0.95      0.85      0.89        85\n",
      "         7.0       0.90      0.87      0.89        62\n",
      "         8.0       0.95      0.85      0.90        82\n",
      "         9.0       0.97      0.84      0.90        80\n",
      "\n",
      "    accuracy                           0.89       800\n",
      "   macro avg       0.92      0.88      0.89       800\n",
      "weighted avg       0.91      0.89      0.89       800\n",
      "\n"
     ]
    }
   ],
   "source": [
    "print(confusion_matrix(test_lbl, test_pred_rbf))\n",
    "print(classification_report(test_lbl, test_pred_rbf))"
   ]
  },
  {
   "cell_type": "code",
   "execution_count": 52,
   "metadata": {},
   "outputs": [
    {
     "name": "stdout",
     "output_type": "stream",
     "text": [
      "[[63  0  7  1  1  6  2  0  1  0]\n",
      " [ 0 74  3  2  0  0  0  0  1  0]\n",
      " [ 8  3 65  4  1  2 11  0  1  2]\n",
      " [ 2  1  2 45  0  7  1  0  4  2]\n",
      " [ 3  0  2  1 65  0  5  3  1  7]\n",
      " [11  2  1  8  2 49  6  0  2  1]\n",
      " [ 8  0  6  0  0  5 65  0  1  0]\n",
      " [ 1  0  3  0  1  0  0 49  0  8]\n",
      " [ 6  6  2  2  2  6  2  0 55  1]\n",
      " [ 1  1  1  3  9  3  0  7  2 53]]\n",
      "              precision    recall  f1-score   support\n",
      "\n",
      "         0.0       0.61      0.78      0.68        81\n",
      "         1.0       0.85      0.93      0.89        80\n",
      "         2.0       0.71      0.67      0.69        97\n",
      "         3.0       0.68      0.70      0.69        64\n",
      "         4.0       0.80      0.75      0.77        87\n",
      "         5.0       0.63      0.60      0.61        82\n",
      "         6.0       0.71      0.76      0.73        85\n",
      "         7.0       0.83      0.79      0.81        62\n",
      "         8.0       0.81      0.67      0.73        82\n",
      "         9.0       0.72      0.66      0.69        80\n",
      "\n",
      "    accuracy                           0.73       800\n",
      "   macro avg       0.73      0.73      0.73       800\n",
      "weighted avg       0.73      0.73      0.73       800\n",
      "\n"
     ]
    }
   ],
   "source": [
    "print(confusion_matrix(test_lbl, test_pred_sigmoid))\n",
    "print(classification_report(test_lbl, test_pred_sigmoid))"
   ]
  },
  {
   "cell_type": "markdown",
   "metadata": {},
   "source": [
    "Refer to the above result, the accuracy of SVM with using Gaussian Kernel is the best.\n",
    "So we start the do the parameter tunning on the SVM with Gaussian Kernal"
   ]
  },
  {
   "cell_type": "code",
   "execution_count": 53,
   "metadata": {},
   "outputs": [
    {
     "name": "stderr",
     "output_type": "stream",
     "text": [
      "/Users/alfred/anaconda3/lib/python3.7/site-packages/sklearn/model_selection/_split.py:1978: FutureWarning: The default value of cv will change from 3 to 5 in version 0.22. Specify it explicitly to silence this warning.\n",
      "  warnings.warn(CV_WARNING, FutureWarning)\n",
      "[Parallel(n_jobs=1)]: Using backend SequentialBackend with 1 concurrent workers.\n"
     ]
    },
    {
     "name": "stdout",
     "output_type": "stream",
     "text": [
      "Fitting 3 folds for each of 16 candidates, totalling 48 fits\n",
      "[CV] C=0.1, gamma=1, kernel=rbf ......................................\n",
      "[CV] .......... C=0.1, gamma=1, kernel=rbf, score=0.106, total=   2.4s\n",
      "[CV] C=0.1, gamma=1, kernel=rbf ......................................\n"
     ]
    },
    {
     "name": "stderr",
     "output_type": "stream",
     "text": [
      "[Parallel(n_jobs=1)]: Done   1 out of   1 | elapsed:    2.4s remaining:    0.0s\n"
     ]
    },
    {
     "name": "stdout",
     "output_type": "stream",
     "text": [
      "[CV] .......... C=0.1, gamma=1, kernel=rbf, score=0.106, total=   2.3s\n",
      "[CV] C=0.1, gamma=1, kernel=rbf ......................................\n"
     ]
    },
    {
     "name": "stderr",
     "output_type": "stream",
     "text": [
      "[Parallel(n_jobs=1)]: Done   2 out of   2 | elapsed:    4.7s remaining:    0.0s\n"
     ]
    },
    {
     "name": "stdout",
     "output_type": "stream",
     "text": [
      "[CV] .......... C=0.1, gamma=1, kernel=rbf, score=0.105, total=   2.3s\n",
      "[CV] C=0.1, gamma=0.1, kernel=rbf ....................................\n",
      "[CV] ........ C=0.1, gamma=0.1, kernel=rbf, score=0.106, total=   2.2s\n",
      "[CV] C=0.1, gamma=0.1, kernel=rbf ....................................\n",
      "[CV] ........ C=0.1, gamma=0.1, kernel=rbf, score=0.106, total=   2.2s\n",
      "[CV] C=0.1, gamma=0.1, kernel=rbf ....................................\n",
      "[CV] ........ C=0.1, gamma=0.1, kernel=rbf, score=0.105, total=   2.2s\n",
      "[CV] C=0.1, gamma=0.01, kernel=rbf ...................................\n",
      "[CV] ....... C=0.1, gamma=0.01, kernel=rbf, score=0.310, total=   2.0s\n",
      "[CV] C=0.1, gamma=0.01, kernel=rbf ...................................\n",
      "[CV] ....... C=0.1, gamma=0.01, kernel=rbf, score=0.313, total=   2.0s\n",
      "[CV] C=0.1, gamma=0.01, kernel=rbf ...................................\n",
      "[CV] ....... C=0.1, gamma=0.01, kernel=rbf, score=0.324, total=   2.0s\n",
      "[CV] C=0.1, gamma=0.001, kernel=rbf ..................................\n",
      "[CV] ...... C=0.1, gamma=0.001, kernel=rbf, score=0.824, total=   1.6s\n",
      "[CV] C=0.1, gamma=0.001, kernel=rbf ..................................\n",
      "[CV] ...... C=0.1, gamma=0.001, kernel=rbf, score=0.839, total=   1.6s\n",
      "[CV] C=0.1, gamma=0.001, kernel=rbf ..................................\n",
      "[CV] ...... C=0.1, gamma=0.001, kernel=rbf, score=0.823, total=   1.6s\n",
      "[CV] C=1, gamma=1, kernel=rbf ........................................\n",
      "[CV] ............ C=1, gamma=1, kernel=rbf, score=0.106, total=   2.3s\n",
      "[CV] C=1, gamma=1, kernel=rbf ........................................\n",
      "[CV] ............ C=1, gamma=1, kernel=rbf, score=0.106, total=   2.3s\n",
      "[CV] C=1, gamma=1, kernel=rbf ........................................\n",
      "[CV] ............ C=1, gamma=1, kernel=rbf, score=0.105, total=   2.3s\n",
      "[CV] C=1, gamma=0.1, kernel=rbf ......................................\n",
      "[CV] .......... C=1, gamma=0.1, kernel=rbf, score=0.173, total=   2.2s\n",
      "[CV] C=1, gamma=0.1, kernel=rbf ......................................\n",
      "[CV] .......... C=1, gamma=0.1, kernel=rbf, score=0.166, total=   2.2s\n",
      "[CV] C=1, gamma=0.1, kernel=rbf ......................................\n",
      "[CV] .......... C=1, gamma=0.1, kernel=rbf, score=0.170, total=   2.2s\n",
      "[CV] C=1, gamma=0.01, kernel=rbf .....................................\n",
      "[CV] ......... C=1, gamma=0.01, kernel=rbf, score=0.767, total=   2.0s\n",
      "[CV] C=1, gamma=0.01, kernel=rbf .....................................\n",
      "[CV] ......... C=1, gamma=0.01, kernel=rbf, score=0.772, total=   2.1s\n",
      "[CV] C=1, gamma=0.01, kernel=rbf .....................................\n",
      "[CV] ......... C=1, gamma=0.01, kernel=rbf, score=0.754, total=   2.0s\n",
      "[CV] C=1, gamma=0.001, kernel=rbf ....................................\n",
      "[CV] ........ C=1, gamma=0.001, kernel=rbf, score=0.902, total=   0.8s\n",
      "[CV] C=1, gamma=0.001, kernel=rbf ....................................\n",
      "[CV] ........ C=1, gamma=0.001, kernel=rbf, score=0.905, total=   0.8s\n",
      "[CV] C=1, gamma=0.001, kernel=rbf ....................................\n",
      "[CV] ........ C=1, gamma=0.001, kernel=rbf, score=0.900, total=   0.8s\n",
      "[CV] C=10, gamma=1, kernel=rbf .......................................\n",
      "[CV] ........... C=10, gamma=1, kernel=rbf, score=0.107, total=   2.3s\n",
      "[CV] C=10, gamma=1, kernel=rbf .......................................\n",
      "[CV] ........... C=10, gamma=1, kernel=rbf, score=0.106, total=   2.3s\n",
      "[CV] C=10, gamma=1, kernel=rbf .......................................\n",
      "[CV] ........... C=10, gamma=1, kernel=rbf, score=0.105, total=   2.4s\n",
      "[CV] C=10, gamma=0.1, kernel=rbf .....................................\n",
      "[CV] ......... C=10, gamma=0.1, kernel=rbf, score=0.179, total=   2.3s\n",
      "[CV] C=10, gamma=0.1, kernel=rbf .....................................\n",
      "[CV] ......... C=10, gamma=0.1, kernel=rbf, score=0.168, total=   2.3s\n",
      "[CV] C=10, gamma=0.1, kernel=rbf .....................................\n",
      "[CV] ......... C=10, gamma=0.1, kernel=rbf, score=0.174, total=   2.3s\n",
      "[CV] C=10, gamma=0.01, kernel=rbf ....................................\n",
      "[CV] ........ C=10, gamma=0.01, kernel=rbf, score=0.782, total=   2.1s\n",
      "[CV] C=10, gamma=0.01, kernel=rbf ....................................\n",
      "[CV] ........ C=10, gamma=0.01, kernel=rbf, score=0.789, total=   2.1s\n",
      "[CV] C=10, gamma=0.01, kernel=rbf ....................................\n",
      "[CV] ........ C=10, gamma=0.01, kernel=rbf, score=0.766, total=   2.1s\n",
      "[CV] C=10, gamma=0.001, kernel=rbf ...................................\n",
      "[CV] ....... C=10, gamma=0.001, kernel=rbf, score=0.922, total=   0.7s\n",
      "[CV] C=10, gamma=0.001, kernel=rbf ...................................\n",
      "[CV] ....... C=10, gamma=0.001, kernel=rbf, score=0.927, total=   0.7s\n",
      "[CV] C=10, gamma=0.001, kernel=rbf ...................................\n",
      "[CV] ....... C=10, gamma=0.001, kernel=rbf, score=0.917, total=   0.7s\n",
      "[CV] C=100, gamma=1, kernel=rbf ......................................\n",
      "[CV] .......... C=100, gamma=1, kernel=rbf, score=0.107, total=   2.4s\n",
      "[CV] C=100, gamma=1, kernel=rbf ......................................\n",
      "[CV] .......... C=100, gamma=1, kernel=rbf, score=0.106, total=   2.5s\n",
      "[CV] C=100, gamma=1, kernel=rbf ......................................\n",
      "[CV] .......... C=100, gamma=1, kernel=rbf, score=0.105, total=   2.4s\n",
      "[CV] C=100, gamma=0.1, kernel=rbf ....................................\n",
      "[CV] ........ C=100, gamma=0.1, kernel=rbf, score=0.179, total=   2.3s\n",
      "[CV] C=100, gamma=0.1, kernel=rbf ....................................\n",
      "[CV] ........ C=100, gamma=0.1, kernel=rbf, score=0.168, total=   2.3s\n",
      "[CV] C=100, gamma=0.1, kernel=rbf ....................................\n",
      "[CV] ........ C=100, gamma=0.1, kernel=rbf, score=0.174, total=   2.4s\n",
      "[CV] C=100, gamma=0.01, kernel=rbf ...................................\n",
      "[CV] ....... C=100, gamma=0.01, kernel=rbf, score=0.782, total=   2.2s\n",
      "[CV] C=100, gamma=0.01, kernel=rbf ...................................\n",
      "[CV] ....... C=100, gamma=0.01, kernel=rbf, score=0.789, total=   2.2s\n",
      "[CV] C=100, gamma=0.01, kernel=rbf ...................................\n",
      "[CV] ....... C=100, gamma=0.01, kernel=rbf, score=0.766, total=   2.1s\n",
      "[CV] C=100, gamma=0.001, kernel=rbf ..................................\n",
      "[CV] ...... C=100, gamma=0.001, kernel=rbf, score=0.921, total=   0.7s\n",
      "[CV] C=100, gamma=0.001, kernel=rbf ..................................\n",
      "[CV] ...... C=100, gamma=0.001, kernel=rbf, score=0.927, total=   0.7s\n",
      "[CV] C=100, gamma=0.001, kernel=rbf ..................................\n",
      "[CV] ...... C=100, gamma=0.001, kernel=rbf, score=0.913, total=   0.7s\n"
     ]
    },
    {
     "name": "stderr",
     "output_type": "stream",
     "text": [
      "[Parallel(n_jobs=1)]: Done  48 out of  48 | elapsed:  1.5min finished\n"
     ]
    },
    {
     "data": {
      "text/plain": [
       "GridSearchCV(cv='warn', error_score='raise-deprecating',\n",
       "             estimator=SVC(C=1.0, cache_size=200, class_weight=None, coef0=0.0,\n",
       "                           decision_function_shape='ovr', degree=3,\n",
       "                           gamma='auto_deprecated', kernel='rbf', max_iter=-1,\n",
       "                           probability=False, random_state=None, shrinking=True,\n",
       "                           tol=0.001, verbose=False),\n",
       "             iid='warn', n_jobs=None,\n",
       "             param_grid={'C': [0.1, 1, 10, 100], 'gamma': [1, 0.1, 0.01, 0.001],\n",
       "                         'kernel': ['rbf']},\n",
       "             pre_dispatch='2*n_jobs', refit=True, return_train_score=False,\n",
       "             scoring=None, verbose=3)"
      ]
     },
     "execution_count": 53,
     "metadata": {},
     "output_type": "execute_result"
    }
   ],
   "source": [
    "#Use GridSearchCV to do Cross Validation, select the best parameters on C, gamma\n",
    "from sklearn.model_selection import GridSearchCV \n",
    "\n",
    "# defining parameter range \n",
    "param_grid = {'C': [0.1, 1, 10, 100], 'gamma': [1, 0.1, 0.01, 0.001], 'kernel': ['rbf']} \n",
    "\n",
    "grid = GridSearchCV(SVC(), param_grid, refit = True, verbose = 3) \n",
    "\n",
    "# fitting the model for grid search \n",
    "grid.fit(train_img, train_lbl) "
   ]
  },
  {
   "cell_type": "code",
   "execution_count": 54,
   "metadata": {},
   "outputs": [
    {
     "name": "stdout",
     "output_type": "stream",
     "text": [
      "{'C': 10, 'gamma': 0.001, 'kernel': 'rbf'}\n",
      "SVC(C=10, cache_size=200, class_weight=None, coef0=0.0,\n",
      "    decision_function_shape='ovr', degree=3, gamma=0.001, kernel='rbf',\n",
      "    max_iter=-1, probability=False, random_state=None, shrinking=True,\n",
      "    tol=0.001, verbose=False)\n"
     ]
    }
   ],
   "source": [
    "# print best parameter after tuning \n",
    "print(grid.best_params_) \n",
    "\n",
    "# print how our model looks after hyper-parameter tuning \n",
    "print(grid.best_estimator_) "
   ]
  },
  {
   "cell_type": "code",
   "execution_count": 55,
   "metadata": {},
   "outputs": [],
   "source": [
    "from datetime import datetime, time\n",
    "def date_diff_in_milliseconds(dt2, dt1):\n",
    "  timedelta = dt2 - dt1\n",
    "  return timedelta.total_seconds() * 1000"
   ]
  },
  {
   "cell_type": "code",
   "execution_count": 56,
   "metadata": {},
   "outputs": [
    {
     "name": "stdout",
     "output_type": "stream",
     "text": [
      "882.876\n"
     ]
    }
   ],
   "source": [
    "#Gaussian Kernel\n",
    "starttime = datetime.now()\n",
    "\n",
    "svclassifier_rbf_tune = SVC(probability=False, kernel='rbf', C=10, gamma=0.001)\n",
    "svclassifier_rbf_tune.fit(train_img, train_lbl)\n",
    "\n",
    "endtime = datetime.now()\n",
    "print(date_diff_in_milliseconds(endtime, starttime))\n"
   ]
  },
  {
   "cell_type": "code",
   "execution_count": 57,
   "metadata": {},
   "outputs": [],
   "source": [
    "test_pred_rbf_tune = svclassifier_rbf_tune.predict(test_img)"
   ]
  },
  {
   "cell_type": "code",
   "execution_count": 58,
   "metadata": {},
   "outputs": [
    {
     "name": "stdout",
     "output_type": "stream",
     "text": [
      "[[79  0  0  0  0  1  1  0  0  0]\n",
      " [ 0 78  1  0  0  0  0  1  0  0]\n",
      " [ 1  0 89  2  1  0  0  4  0  0]\n",
      " [ 0  0  2 56  0  3  0  2  1  0]\n",
      " [ 0  0  1  0 82  0  0  2  1  1]\n",
      " [ 0  0  0  2  3 75  2  0  0  0]\n",
      " [ 0  0  3  0  0  1 81  0  0  0]\n",
      " [ 0  0  0  0  0  0  1 60  0  1]\n",
      " [ 0  0  4  2  0  1  0  0 75  0]\n",
      " [ 0  1  1  1  2  2  0  2  0 71]]\n",
      "              precision    recall  f1-score   support\n",
      "\n",
      "         0.0       0.99      0.98      0.98        81\n",
      "         1.0       0.99      0.97      0.98        80\n",
      "         2.0       0.88      0.92      0.90        97\n",
      "         3.0       0.89      0.88      0.88        64\n",
      "         4.0       0.93      0.94      0.94        87\n",
      "         5.0       0.90      0.91      0.91        82\n",
      "         6.0       0.95      0.95      0.95        85\n",
      "         7.0       0.85      0.97      0.90        62\n",
      "         8.0       0.97      0.91      0.94        82\n",
      "         9.0       0.97      0.89      0.93        80\n",
      "\n",
      "    accuracy                           0.93       800\n",
      "   macro avg       0.93      0.93      0.93       800\n",
      "weighted avg       0.93      0.93      0.93       800\n",
      "\n"
     ]
    }
   ],
   "source": [
    "print(confusion_matrix(test_lbl, test_pred_rbf_tune))\n",
    "print(classification_report(test_lbl, test_pred_rbf_tune))"
   ]
  },
  {
   "cell_type": "markdown",
   "metadata": {},
   "source": [
    "The accuracy has been improved to 0.93 after parameter tunning. "
   ]
  },
  {
   "cell_type": "code",
   "execution_count": null,
   "metadata": {},
   "outputs": [],
   "source": []
  }
 ],
 "metadata": {
  "kernelspec": {
   "display_name": "Python 3",
   "language": "python",
   "name": "python3"
  },
  "language_info": {
   "codemirror_mode": {
    "name": "ipython",
    "version": 3
   },
   "file_extension": ".py",
   "mimetype": "text/x-python",
   "name": "python",
   "nbconvert_exporter": "python",
   "pygments_lexer": "ipython3",
   "version": "3.7.3"
  }
 },
 "nbformat": 4,
 "nbformat_minor": 2
}
