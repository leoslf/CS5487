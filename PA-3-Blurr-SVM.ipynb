{
 "cells": [
  {
   "cell_type": "code",
   "execution_count": 123,
   "metadata": {},
   "outputs": [],
   "source": [
    "import math\n",
    "import numpy as np\n",
    "import pandas as pd\n",
    "import matplotlib.pyplot as plt\n",
    "from cvxopt import solvers,matrix"
   ]
  },
  {
   "cell_type": "code",
   "execution_count": 124,
   "metadata": {},
   "outputs": [],
   "source": [
    "from sklearn.datasets import fetch_openml\n",
    "from sklearn.decomposition import PCA\n",
    "from sklearn.preprocessing import StandardScaler\n",
    "from sklearn import metrics\n",
    "from sklearn.model_selection import train_test_split\n",
    "from sklearn.metrics import classification_report, confusion_matrix"
   ]
  },
  {
   "cell_type": "code",
   "execution_count": 125,
   "metadata": {},
   "outputs": [],
   "source": [
    "f_digits_vec = \"digits4000_txt/digits4000_digits_vec.txt\"\n",
    "f_digits_label = \"digits4000_txt/digits4000_digits_labels.txt\"\n",
    "f_digits_trainset = \"digits4000_txt/digits4000_trainset.txt\"\n",
    "f_digits_testset = \"digits4000_txt/digits4000_testset.txt\""
   ]
  },
  {
   "cell_type": "code",
   "execution_count": 126,
   "metadata": {},
   "outputs": [],
   "source": [
    "digits_vec = np.loadtxt(f_digits_vec)\n",
    "digits_label = np.loadtxt(f_digits_label)\n",
    "digits_trainset = np.loadtxt(f_digits_trainset)\n",
    "digits_testset = np.loadtxt(f_digits_testset)"
   ]
  },
  {
   "cell_type": "code",
   "execution_count": 127,
   "metadata": {},
   "outputs": [
    {
     "name": "stdout",
     "output_type": "stream",
     "text": [
      "(4000, 784)\n",
      "(4000,)\n",
      "(2000, 2)\n",
      "(2000, 2)\n"
     ]
    }
   ],
   "source": [
    "print(digits_vec.shape)\n",
    "print(digits_label.shape)\n",
    "print(digits_trainset.shape)\n",
    "print(digits_testset.shape)"
   ]
  },
  {
   "cell_type": "code",
   "execution_count": 128,
   "metadata": {},
   "outputs": [],
   "source": [
    "#Simple box blur algorithm: 3*3\n",
    "def get_pixel_at(pixel_grid, i, j):\n",
    "    num_rows = 0\n",
    "    num_columns = 0\n",
    "    \n",
    "    pixel_val = 0\n",
    "    \n",
    "    num_rows = len(pixel_grid)\n",
    "    if i >= 0:\n",
    "        num_columns = len(pixel_grid[0])\n",
    "    \n",
    "    if i >= 0 and i < num_rows and j >= 0 and j < num_columns:\n",
    "        pixel_val = pixel_grid[i][j]\n",
    "    \n",
    "    return pixel_val\n",
    "\n",
    "def average_of_surrounding(pixel_grid, i, j):\n",
    "    pixel_sum = 0\n",
    "    for row in range(i - 1, i + 1 + 1):\n",
    "        for column in range(j - 1, j + 1 +1):\n",
    "                pixel_sum = pixel_sum + get_pixel_at(pixel_grid, row, column)              \n",
    "    return int(pixel_sum / 9)\n",
    "\n",
    "def blur(pixel_grid):\n",
    "   #test_grid2 = list(test_grid)\n",
    "    new_pixel = []\n",
    "    for row in range(0, len(pixel_grid)):\n",
    "        new_row = []\n",
    "        for col in range(0, len(pixel_grid[row])):\n",
    "            new_row.append(average_of_surrounding(pixel_grid, row, col))\n",
    "        new_pixel.append(new_row)\n",
    "    return new_pixel"
   ]
  },
  {
   "cell_type": "code",
   "execution_count": 129,
   "metadata": {},
   "outputs": [
    {
     "name": "stdout",
     "output_type": "stream",
     "text": [
      "[[4, 6, 6, 4], [6, 10, 10, 6], [6, 10, 10, 6], [6, 10, 10, 6], [4, 6, 6, 4]]\n"
     ]
    }
   ],
   "source": [
    "#Testing\n",
    "test_grid = [\n",
    "        [10, 10, 10, 10],\n",
    "        [10, 10, 10, 10],\n",
    "        [10, 10, 10, 10],\n",
    "        [10, 10, 10, 10],\n",
    "        [10, 10, 10, 10]\n",
    "]\n",
    "print(blur(test_grid))"
   ]
  },
  {
   "cell_type": "code",
   "execution_count": 130,
   "metadata": {},
   "outputs": [
    {
     "name": "stdout",
     "output_type": "stream",
     "text": [
      "Before Blurring\n"
     ]
    },
    {
     "data": {
      "image/png": "[encoded data removed]",
      "text/plain": [
       "<Figure size 432x288 with 1 Axes>"
      ]
     },
     "metadata": {
      "needs_background": "light"
     },
     "output_type": "display_data"
    },
    {
     "name": "stdout",
     "output_type": "stream",
     "text": [
      "After Blurring\n"
     ]
    },
    {
     "data": {
      "image/png": "[encoded data removed]",
      "text/plain": [
       "<Figure size 432x288 with 1 Axes>"
      ]
     },
     "metadata": {
      "needs_background": "light"
     },
     "output_type": "display_data"
    }
   ],
   "source": [
    "#Before Blurring\n",
    "print(\"Before Blurring\")\n",
    "first_image = digits_vec[100]\n",
    "pixels = first_image.reshape((28, 28))\n",
    "plt.imshow(pixels, cmap='gray')\n",
    "plt.show()\n",
    "\n",
    "blur_image = np.array(blur(pixels.tolist()))\n",
    "print(\"After Blurring\")\n",
    "plt.imshow(blur_image, cmap='gray')\n",
    "plt.show()"
   ]
  },
  {
   "cell_type": "code",
   "execution_count": 131,
   "metadata": {},
   "outputs": [],
   "source": [
    "#Blurring all training data and test data set\n",
    "\n",
    "new_blur_digits_list = []\n",
    "for row in range(0, len(digits_vec)):\n",
    "    one_digit = digits_vec[row].reshape((28, 28))\n",
    "    blur_one_digit = np.array(blur(one_digit.tolist())).reshape(784,)\n",
    "    new_blur_digits_list.append(blur_one_digit)\n",
    "\n",
    "new_blur_digits = np.array(new_blur_digits_list)    "
   ]
  },
  {
   "cell_type": "code",
   "execution_count": 171,
   "metadata": {},
   "outputs": [
    {
     "data": {
      "image/png": "[encoded data removed]",
      "text/plain": [
       "<Figure size 432x288 with 1 Axes>"
      ]
     },
     "metadata": {
      "needs_background": "light"
     },
     "output_type": "display_data"
    }
   ],
   "source": [
    "plt.imshow(new_blur_digits[2].reshape((28, 28)), cmap='gray')\n",
    "plt.show()"
   ]
  },
  {
   "cell_type": "code",
   "execution_count": 154,
   "metadata": {},
   "outputs": [],
   "source": [
    "# test_size: what proportion of original data is used for test set\n",
    "#train_img, test_img, train_lbl, test_lbl = train_test_split(\n",
    "#    digits_vec, digits_label, test_size=1/5.0, random_state=0)\n",
    "train_img, test_img, train_lbl, test_lbl = train_test_split(\n",
    "    new_blur_digits, digits_label, test_size=1/5.0, random_state=0)"
   ]
  },
  {
   "cell_type": "code",
   "execution_count": 155,
   "metadata": {},
   "outputs": [
    {
     "name": "stdout",
     "output_type": "stream",
     "text": [
      "(3200, 784)\n",
      "(800, 784)\n"
     ]
    }
   ],
   "source": [
    "print(train_img.shape)\n",
    "print(test_img.shape)"
   ]
  },
  {
   "cell_type": "code",
   "execution_count": 156,
   "metadata": {},
   "outputs": [],
   "source": [
    "from sklearn.preprocessing import StandardScaler\n",
    "scaler = StandardScaler()\n",
    "\n",
    "# Fit on training set only.\n",
    "scaler.fit(train_img)\n",
    "\n",
    "# Apply transform to both the training set and the test set.\n",
    "train_img = scaler.transform(train_img)\n",
    "test_img = scaler.transform(test_img)"
   ]
  },
  {
   "cell_type": "code",
   "execution_count": 157,
   "metadata": {},
   "outputs": [
    {
     "name": "stderr",
     "output_type": "stream",
     "text": [
      "/Users/alfred/anaconda3/lib/python3.7/site-packages/sklearn/svm/base.py:193: FutureWarning: The default value of gamma will change from 'auto' to 'scale' in version 0.22 to account better for unscaled features. Set gamma explicitly to 'auto' or 'scale' to avoid this warning.\n",
      "  \"avoid this warning.\", FutureWarning)\n",
      "/Users/alfred/anaconda3/lib/python3.7/site-packages/sklearn/svm/base.py:193: FutureWarning: The default value of gamma will change from 'auto' to 'scale' in version 0.22 to account better for unscaled features. Set gamma explicitly to 'auto' or 'scale' to avoid this warning.\n",
      "  \"avoid this warning.\", FutureWarning)\n",
      "/Users/alfred/anaconda3/lib/python3.7/site-packages/sklearn/svm/base.py:193: FutureWarning: The default value of gamma will change from 'auto' to 'scale' in version 0.22 to account better for unscaled features. Set gamma explicitly to 'auto' or 'scale' to avoid this warning.\n",
      "  \"avoid this warning.\", FutureWarning)\n"
     ]
    },
    {
     "data": {
      "text/plain": [
       "SVC(C=1.0, cache_size=200, class_weight=None, coef0=0.0,\n",
       "    decision_function_shape='ovr', degree=3, gamma='auto_deprecated',\n",
       "    kernel='sigmoid', max_iter=-1, probability=False, random_state=None,\n",
       "    shrinking=True, tol=0.001, verbose=False)"
      ]
     },
     "execution_count": 157,
     "metadata": {},
     "output_type": "execute_result"
    }
   ],
   "source": [
    "#Compare the performance between different kernals, and then select the best one\n",
    "from sklearn.svm import SVC\n",
    "#polynomial\n",
    "svclassifier_poly = SVC(kernel='poly', degree=8)\n",
    "svclassifier_poly.fit(train_img, train_lbl)\n",
    "#Gaussian Kernel\n",
    "svclassifier_rbf = SVC(kernel='rbf')\n",
    "svclassifier_rbf.fit(train_img, train_lbl)\n",
    "#sigmoid Kernel\n",
    "svclassifier_sigmoid = SVC(kernel='sigmoid')\n",
    "svclassifier_sigmoid.fit(train_img, train_lbl)\n"
   ]
  },
  {
   "cell_type": "code",
   "execution_count": 158,
   "metadata": {},
   "outputs": [],
   "source": [
    "test_pred_poly = svclassifier_poly.predict(test_img)\n",
    "test_pred_rbf = svclassifier_rbf.predict(test_img)\n",
    "test_pred_sigmoid = svclassifier_sigmoid.predict(test_img)"
   ]
  },
  {
   "cell_type": "code",
   "execution_count": 160,
   "metadata": {},
   "outputs": [
    {
     "name": "stdout",
     "output_type": "stream",
     "text": [
      "[[26 55  0  0  0  0  0  0  0  0]\n",
      " [ 0 80  0  0  0  0  0  0  0  0]\n",
      " [ 0 67 28  2  0  0  0  0  0  0]\n",
      " [ 0 56  1  7  0  0  0  0  0  0]\n",
      " [ 0 81  0  0  5  0  0  1  0  0]\n",
      " [ 0 73  0  0  0  8  1  0  0  0]\n",
      " [ 0 61  1  0  0  1 22  0  0  0]\n",
      " [ 0 45  0  0  0  0  0 17  0  0]\n",
      " [ 1 72  1  0  0  4  0  1  3  0]\n",
      " [ 0 76  1  0  0  0  0  1  0  2]]\n",
      "              precision    recall  f1-score   support\n",
      "\n",
      "         0.0       0.96      0.32      0.48        81\n",
      "         1.0       0.12      1.00      0.21        80\n",
      "         2.0       0.88      0.29      0.43        97\n",
      "         3.0       0.78      0.11      0.19        64\n",
      "         4.0       1.00      0.06      0.11        87\n",
      "         5.0       0.62      0.10      0.17        82\n",
      "         6.0       0.96      0.26      0.41        85\n",
      "         7.0       0.85      0.27      0.41        62\n",
      "         8.0       1.00      0.04      0.07        82\n",
      "         9.0       1.00      0.03      0.05        80\n",
      "\n",
      "    accuracy                           0.25       800\n",
      "   macro avg       0.82      0.25      0.25       800\n",
      "weighted avg       0.82      0.25      0.25       800\n",
      "\n"
     ]
    }
   ],
   "source": [
    "print(confusion_matrix(test_lbl, test_pred_poly))\n",
    "print(classification_report(test_lbl, test_pred_poly))"
   ]
  },
  {
   "cell_type": "code",
   "execution_count": 161,
   "metadata": {},
   "outputs": [
    {
     "name": "stdout",
     "output_type": "stream",
     "text": [
      "[[80  0  0  0  0  0  1  0  0  0]\n",
      " [ 0 79  1  0  0  0  0  0  0  0]\n",
      " [ 0  0 92  2  1  0  0  2  0  0]\n",
      " [ 0  0  5 54  1  2  1  0  0  1]\n",
      " [ 0  0  4  0 78  0  1  0  1  3]\n",
      " [ 0  0  1  1  2 74  3  0  0  1]\n",
      " [ 0  0  2  0  0  0 83  0  0  0]\n",
      " [ 1  0  1  0  0  0  0 58  0  2]\n",
      " [ 1  0  3  1  1  1  1  1 73  0]\n",
      " [ 0  1  2  2  0  0  0  2  1 72]]\n",
      "              precision    recall  f1-score   support\n",
      "\n",
      "         0.0       0.98      0.99      0.98        81\n",
      "         1.0       0.99      0.99      0.99        80\n",
      "         2.0       0.83      0.95      0.88        97\n",
      "         3.0       0.90      0.84      0.87        64\n",
      "         4.0       0.94      0.90      0.92        87\n",
      "         5.0       0.96      0.90      0.93        82\n",
      "         6.0       0.92      0.98      0.95        85\n",
      "         7.0       0.92      0.94      0.93        62\n",
      "         8.0       0.97      0.89      0.93        82\n",
      "         9.0       0.91      0.90      0.91        80\n",
      "\n",
      "    accuracy                           0.93       800\n",
      "   macro avg       0.93      0.93      0.93       800\n",
      "weighted avg       0.93      0.93      0.93       800\n",
      "\n"
     ]
    }
   ],
   "source": [
    "print(confusion_matrix(test_lbl, test_pred_rbf))\n",
    "print(classification_report(test_lbl, test_pred_rbf))"
   ]
  },
  {
   "cell_type": "code",
   "execution_count": 162,
   "metadata": {},
   "outputs": [
    {
     "name": "stdout",
     "output_type": "stream",
     "text": [
      "[[78  0  1  0  0  0  2  0  0  0]\n",
      " [ 0 78  0  0  0  0  0  0  2  0]\n",
      " [ 2  1 87  4  1  0  2  0  0  0]\n",
      " [ 0  1  1 54  0  2  1  1  3  1]\n",
      " [ 0  0  3  0 75  0  2  0  1  6]\n",
      " [ 1  2  1  4  7 62  3  0  1  1]\n",
      " [ 2  0  2  0  1  0 80  0  0  0]\n",
      " [ 1  0  0  0  0  0  0 58  0  3]\n",
      " [ 3  2  1  2  2  4  0  0 68  0]\n",
      " [ 0  1  2  2  3  1  0  2  2 67]]\n",
      "              precision    recall  f1-score   support\n",
      "\n",
      "         0.0       0.90      0.96      0.93        81\n",
      "         1.0       0.92      0.97      0.95        80\n",
      "         2.0       0.89      0.90      0.89        97\n",
      "         3.0       0.82      0.84      0.83        64\n",
      "         4.0       0.84      0.86      0.85        87\n",
      "         5.0       0.90      0.76      0.82        82\n",
      "         6.0       0.89      0.94      0.91        85\n",
      "         7.0       0.95      0.94      0.94        62\n",
      "         8.0       0.88      0.83      0.86        82\n",
      "         9.0       0.86      0.84      0.85        80\n",
      "\n",
      "    accuracy                           0.88       800\n",
      "   macro avg       0.88      0.88      0.88       800\n",
      "weighted avg       0.88      0.88      0.88       800\n",
      "\n"
     ]
    }
   ],
   "source": [
    "print(confusion_matrix(test_lbl, test_pred_sigmoid))\n",
    "print(classification_report(test_lbl, test_pred_sigmoid))"
   ]
  },
  {
   "cell_type": "markdown",
   "metadata": {},
   "source": [
    "Refer to the above result, the accuracy of SVM with using Gaussian Kernel is the best.\n",
    "So we start the do the parameter tunning on the SVM with Gaussian Kernal"
   ]
  },
  {
   "cell_type": "code",
   "execution_count": 163,
   "metadata": {},
   "outputs": [
    {
     "name": "stderr",
     "output_type": "stream",
     "text": [
      "/Users/alfred/anaconda3/lib/python3.7/site-packages/sklearn/model_selection/_split.py:1978: FutureWarning: The default value of cv will change from 3 to 5 in version 0.22. Specify it explicitly to silence this warning.\n",
      "  warnings.warn(CV_WARNING, FutureWarning)\n",
      "[Parallel(n_jobs=1)]: Using backend SequentialBackend with 1 concurrent workers.\n"
     ]
    },
    {
     "name": "stdout",
     "output_type": "stream",
     "text": [
      "Fitting 3 folds for each of 16 candidates, totalling 48 fits\n",
      "[CV] C=0.1, gamma=1, kernel=rbf ......................................\n",
      "[CV] .......... C=0.1, gamma=1, kernel=rbf, score=0.106, total=  10.2s\n",
      "[CV] C=0.1, gamma=1, kernel=rbf ......................................\n"
     ]
    },
    {
     "name": "stderr",
     "output_type": "stream",
     "text": [
      "[Parallel(n_jobs=1)]: Done   1 out of   1 | elapsed:   10.2s remaining:    0.0s\n"
     ]
    },
    {
     "name": "stdout",
     "output_type": "stream",
     "text": [
      "[CV] .......... C=0.1, gamma=1, kernel=rbf, score=0.106, total=  11.0s\n",
      "[CV] C=0.1, gamma=1, kernel=rbf ......................................\n"
     ]
    },
    {
     "name": "stderr",
     "output_type": "stream",
     "text": [
      "[Parallel(n_jobs=1)]: Done   2 out of   2 | elapsed:   21.3s remaining:    0.0s\n"
     ]
    },
    {
     "name": "stdout",
     "output_type": "stream",
     "text": [
      "[CV] .......... C=0.1, gamma=1, kernel=rbf, score=0.105, total=  11.3s\n",
      "[CV] C=0.1, gamma=0.1, kernel=rbf ....................................\n",
      "[CV] ........ C=0.1, gamma=0.1, kernel=rbf, score=0.106, total=  10.8s\n",
      "[CV] C=0.1, gamma=0.1, kernel=rbf ....................................\n",
      "[CV] ........ C=0.1, gamma=0.1, kernel=rbf, score=0.106, total=   9.9s\n",
      "[CV] C=0.1, gamma=0.1, kernel=rbf ....................................\n",
      "[CV] ........ C=0.1, gamma=0.1, kernel=rbf, score=0.105, total=  10.0s\n",
      "[CV] C=0.1, gamma=0.01, kernel=rbf ...................................\n",
      "[CV] ....... C=0.1, gamma=0.01, kernel=rbf, score=0.325, total=   9.5s\n",
      "[CV] C=0.1, gamma=0.01, kernel=rbf ...................................\n",
      "[CV] ....... C=0.1, gamma=0.01, kernel=rbf, score=0.336, total=   9.5s\n",
      "[CV] C=0.1, gamma=0.01, kernel=rbf ...................................\n",
      "[CV] ....... C=0.1, gamma=0.01, kernel=rbf, score=0.336, total=   9.6s\n",
      "[CV] C=0.1, gamma=0.001, kernel=rbf ..................................\n",
      "[CV] ...... C=0.1, gamma=0.001, kernel=rbf, score=0.828, total=   7.0s\n",
      "[CV] C=0.1, gamma=0.001, kernel=rbf ..................................\n",
      "[CV] ...... C=0.1, gamma=0.001, kernel=rbf, score=0.840, total=   6.9s\n",
      "[CV] C=0.1, gamma=0.001, kernel=rbf ..................................\n",
      "[CV] ...... C=0.1, gamma=0.001, kernel=rbf, score=0.829, total=   7.1s\n",
      "[CV] C=1, gamma=1, kernel=rbf ........................................\n",
      "[CV] ............ C=1, gamma=1, kernel=rbf, score=0.106, total=  12.0s\n",
      "[CV] C=1, gamma=1, kernel=rbf ........................................\n",
      "[CV] ............ C=1, gamma=1, kernel=rbf, score=0.106, total=  10.9s\n",
      "[CV] C=1, gamma=1, kernel=rbf ........................................\n",
      "[CV] ............ C=1, gamma=1, kernel=rbf, score=0.105, total=  10.6s\n",
      "[CV] C=1, gamma=0.1, kernel=rbf ......................................\n",
      "[CV] .......... C=1, gamma=0.1, kernel=rbf, score=0.173, total=  10.5s\n",
      "[CV] C=1, gamma=0.1, kernel=rbf ......................................\n",
      "[CV] .......... C=1, gamma=0.1, kernel=rbf, score=0.165, total=  10.5s\n",
      "[CV] C=1, gamma=0.1, kernel=rbf ......................................\n",
      "[CV] .......... C=1, gamma=0.1, kernel=rbf, score=0.166, total=  10.4s\n",
      "[CV] C=1, gamma=0.01, kernel=rbf .....................................\n",
      "[CV] ......... C=1, gamma=0.01, kernel=rbf, score=0.753, total=   9.5s\n",
      "[CV] C=1, gamma=0.01, kernel=rbf .....................................\n",
      "[CV] ......... C=1, gamma=0.01, kernel=rbf, score=0.749, total=   9.3s\n",
      "[CV] C=1, gamma=0.01, kernel=rbf .....................................\n",
      "[CV] ......... C=1, gamma=0.01, kernel=rbf, score=0.733, total=   9.5s\n",
      "[CV] C=1, gamma=0.001, kernel=rbf ....................................\n",
      "[CV] ........ C=1, gamma=0.001, kernel=rbf, score=0.910, total=   3.8s\n",
      "[CV] C=1, gamma=0.001, kernel=rbf ....................................\n",
      "[CV] ........ C=1, gamma=0.001, kernel=rbf, score=0.911, total=   3.7s\n",
      "[CV] C=1, gamma=0.001, kernel=rbf ....................................\n",
      "[CV] ........ C=1, gamma=0.001, kernel=rbf, score=0.914, total=   3.7s\n",
      "[CV] C=10, gamma=1, kernel=rbf .......................................\n",
      "[CV] ........... C=10, gamma=1, kernel=rbf, score=0.106, total=  10.4s\n",
      "[CV] C=10, gamma=1, kernel=rbf .......................................\n",
      "[CV] ........... C=10, gamma=1, kernel=rbf, score=0.106, total=  10.4s\n",
      "[CV] C=10, gamma=1, kernel=rbf .......................................\n",
      "[CV] ........... C=10, gamma=1, kernel=rbf, score=0.105, total=  10.5s\n",
      "[CV] C=10, gamma=0.1, kernel=rbf .....................................\n",
      "[CV] ......... C=10, gamma=0.1, kernel=rbf, score=0.177, total=  10.3s\n",
      "[CV] C=10, gamma=0.1, kernel=rbf .....................................\n",
      "[CV] ......... C=10, gamma=0.1, kernel=rbf, score=0.171, total=  10.3s\n",
      "[CV] C=10, gamma=0.1, kernel=rbf .....................................\n",
      "[CV] ......... C=10, gamma=0.1, kernel=rbf, score=0.173, total=  10.5s\n",
      "[CV] C=10, gamma=0.01, kernel=rbf ....................................\n",
      "[CV] ........ C=10, gamma=0.01, kernel=rbf, score=0.769, total=   9.9s\n",
      "[CV] C=10, gamma=0.01, kernel=rbf ....................................\n",
      "[CV] ........ C=10, gamma=0.01, kernel=rbf, score=0.764, total=   9.5s\n",
      "[CV] C=10, gamma=0.01, kernel=rbf ....................................\n",
      "[CV] ........ C=10, gamma=0.01, kernel=rbf, score=0.750, total=   9.6s\n",
      "[CV] C=10, gamma=0.001, kernel=rbf ...................................\n",
      "[CV] ....... C=10, gamma=0.001, kernel=rbf, score=0.927, total=   3.1s\n",
      "[CV] C=10, gamma=0.001, kernel=rbf ...................................\n",
      "[CV] ....... C=10, gamma=0.001, kernel=rbf, score=0.919, total=   3.0s\n",
      "[CV] C=10, gamma=0.001, kernel=rbf ...................................\n",
      "[CV] ....... C=10, gamma=0.001, kernel=rbf, score=0.923, total=   3.0s\n",
      "[CV] C=100, gamma=1, kernel=rbf ......................................\n",
      "[CV] .......... C=100, gamma=1, kernel=rbf, score=0.106, total=  10.4s\n",
      "[CV] C=100, gamma=1, kernel=rbf ......................................\n",
      "[CV] .......... C=100, gamma=1, kernel=rbf, score=0.106, total=  10.4s\n",
      "[CV] C=100, gamma=1, kernel=rbf ......................................\n",
      "[CV] .......... C=100, gamma=1, kernel=rbf, score=0.105, total=  10.4s\n",
      "[CV] C=100, gamma=0.1, kernel=rbf ....................................\n",
      "[CV] ........ C=100, gamma=0.1, kernel=rbf, score=0.177, total=  10.3s\n",
      "[CV] C=100, gamma=0.1, kernel=rbf ....................................\n",
      "[CV] ........ C=100, gamma=0.1, kernel=rbf, score=0.171, total=  10.3s\n",
      "[CV] C=100, gamma=0.1, kernel=rbf ....................................\n",
      "[CV] ........ C=100, gamma=0.1, kernel=rbf, score=0.173, total=  10.3s\n",
      "[CV] C=100, gamma=0.01, kernel=rbf ...................................\n",
      "[CV] ....... C=100, gamma=0.01, kernel=rbf, score=0.769, total=   9.7s\n",
      "[CV] C=100, gamma=0.01, kernel=rbf ...................................\n",
      "[CV] ....... C=100, gamma=0.01, kernel=rbf, score=0.764, total=  10.0s\n",
      "[CV] C=100, gamma=0.01, kernel=rbf ...................................\n",
      "[CV] ....... C=100, gamma=0.01, kernel=rbf, score=0.750, total=  10.4s\n",
      "[CV] C=100, gamma=0.001, kernel=rbf ..................................\n",
      "[CV] ...... C=100, gamma=0.001, kernel=rbf, score=0.926, total=   3.4s\n",
      "[CV] C=100, gamma=0.001, kernel=rbf ..................................\n",
      "[CV] ...... C=100, gamma=0.001, kernel=rbf, score=0.921, total=   3.3s\n",
      "[CV] C=100, gamma=0.001, kernel=rbf ..................................\n",
      "[CV] ...... C=100, gamma=0.001, kernel=rbf, score=0.917, total=   3.1s\n"
     ]
    },
    {
     "name": "stderr",
     "output_type": "stream",
     "text": [
      "[Parallel(n_jobs=1)]: Done  48 out of  48 | elapsed:  7.0min finished\n"
     ]
    },
    {
     "data": {
      "text/plain": [
       "GridSearchCV(cv='warn', error_score='raise-deprecating',\n",
       "             estimator=SVC(C=1.0, cache_size=200, class_weight=None, coef0=0.0,\n",
       "                           decision_function_shape='ovr', degree=3,\n",
       "                           gamma='auto_deprecated', kernel='rbf', max_iter=-1,\n",
       "                           probability=False, random_state=None, shrinking=True,\n",
       "                           tol=0.001, verbose=False),\n",
       "             iid='warn', n_jobs=None,\n",
       "             param_grid={'C': [0.1, 1, 10, 100], 'gamma': [1, 0.1, 0.01, 0.001],\n",
       "                         'kernel': ['rbf']},\n",
       "             pre_dispatch='2*n_jobs', refit=True, return_train_score=False,\n",
       "             scoring=None, verbose=3)"
      ]
     },
     "execution_count": 163,
     "metadata": {},
     "output_type": "execute_result"
    }
   ],
   "source": [
    "#Use GridSearchCV to do Cross Validation, select the best parameters on C, gamma\n",
    "from sklearn.model_selection import GridSearchCV \n",
    "\n",
    "# defining parameter range \n",
    "param_grid = {'C': [0.1, 1, 10, 100], 'gamma': [1, 0.1, 0.01, 0.001], 'kernel': ['rbf']} \n",
    "\n",
    "grid = GridSearchCV(SVC(), param_grid, refit = True, verbose = 3) \n",
    "\n",
    "# fitting the model for grid search \n",
    "grid.fit(train_img, train_lbl) "
   ]
  },
  {
   "cell_type": "code",
   "execution_count": 164,
   "metadata": {},
   "outputs": [
    {
     "name": "stdout",
     "output_type": "stream",
     "text": [
      "{'C': 10, 'gamma': 0.001, 'kernel': 'rbf'}\n",
      "SVC(C=10, cache_size=200, class_weight=None, coef0=0.0,\n",
      "    decision_function_shape='ovr', degree=3, gamma=0.001, kernel='rbf',\n",
      "    max_iter=-1, probability=False, random_state=None, shrinking=True,\n",
      "    tol=0.001, verbose=False)\n"
     ]
    }
   ],
   "source": [
    "# print best parameter after tuning \n",
    "print(grid.best_params_) \n",
    "\n",
    "# print how our model looks after hyper-parameter tuning \n",
    "print(grid.best_estimator_) "
   ]
  },
  {
   "cell_type": "code",
   "execution_count": 165,
   "metadata": {},
   "outputs": [],
   "source": [
    "from datetime import datetime, time\n",
    "def date_diff_in_milliseconds(dt2, dt1):\n",
    "  timedelta = dt2 - dt1\n",
    "  return timedelta.total_seconds() * 1000"
   ]
  },
  {
   "cell_type": "code",
   "execution_count": 166,
   "metadata": {},
   "outputs": [
    {
     "name": "stdout",
     "output_type": "stream",
     "text": [
      "3770.037\n"
     ]
    }
   ],
   "source": [
    "#Gaussian Kernel\n",
    "starttime = datetime.now()\n",
    "\n",
    "svclassifier_rbf_tune = SVC(probability=False, kernel='rbf', C=10, gamma=0.001)\n",
    "svclassifier_rbf_tune.fit(train_img, train_lbl)\n",
    "\n",
    "endtime = datetime.now()\n",
    "print(date_diff_in_milliseconds(endtime, starttime))\n"
   ]
  },
  {
   "cell_type": "code",
   "execution_count": 167,
   "metadata": {},
   "outputs": [],
   "source": [
    "test_pred_rbf_tune = svclassifier_rbf_tune.predict(test_img)"
   ]
  },
  {
   "cell_type": "code",
   "execution_count": 168,
   "metadata": {},
   "outputs": [
    {
     "name": "stdout",
     "output_type": "stream",
     "text": [
      "[[79  0  0  0  0  1  1  0  0  0]\n",
      " [ 0 77  2  0  0  0  0  1  0  0]\n",
      " [ 0  0 91  1  2  0  0  3  0  0]\n",
      " [ 0  0  3 55  0  3  0  2  1  0]\n",
      " [ 0  0  3  0 77  0  2  1  1  3]\n",
      " [ 0  0  0  2  3 75  2  0  0  0]\n",
      " [ 0  0  2  0  1  1 81  0  0  0]\n",
      " [ 0  0  0  0  0  0  1 60  0  1]\n",
      " [ 1  0  3  2  0  1  1  0 74  0]\n",
      " [ 0  1  0  0  1  2  0  2  0 74]]\n",
      "              precision    recall  f1-score   support\n",
      "\n",
      "         0.0       0.99      0.98      0.98        81\n",
      "         1.0       0.99      0.96      0.97        80\n",
      "         2.0       0.88      0.94      0.91        97\n",
      "         3.0       0.92      0.86      0.89        64\n",
      "         4.0       0.92      0.89      0.90        87\n",
      "         5.0       0.90      0.91      0.91        82\n",
      "         6.0       0.92      0.95      0.94        85\n",
      "         7.0       0.87      0.97      0.92        62\n",
      "         8.0       0.97      0.90      0.94        82\n",
      "         9.0       0.95      0.93      0.94        80\n",
      "\n",
      "    accuracy                           0.93       800\n",
      "   macro avg       0.93      0.93      0.93       800\n",
      "weighted avg       0.93      0.93      0.93       800\n",
      "\n"
     ]
    }
   ],
   "source": [
    "print(confusion_matrix(test_lbl, test_pred_rbf_tune))\n",
    "print(classification_report(test_lbl, test_pred_rbf_tune))"
   ]
  },
  {
   "cell_type": "markdown",
   "metadata": {},
   "source": [
    "The accuracy has been improved to 0.93 after parameter tunning. "
   ]
  },
  {
   "cell_type": "code",
   "execution_count": null,
   "metadata": {},
   "outputs": [],
   "source": []
  }
 ],
 "metadata": {
  "kernelspec": {
   "display_name": "Python 3",
   "language": "python",
   "name": "python3"
  },
  "language_info": {
   "codemirror_mode": {
    "name": "ipython",
    "version": 3
   },
   "file_extension": ".py",
   "mimetype": "text/x-python",
   "name": "python",
   "nbconvert_exporter": "python",
   "pygments_lexer": "ipython3",
   "version": "3.7.3"
  }
 },
 "nbformat": 4,
 "nbformat_minor": 2
}
