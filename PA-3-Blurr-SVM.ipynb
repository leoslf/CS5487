{
 "cells": [
  {
   "cell_type": "code",
   "execution_count": 1,
   "metadata": {},
   "outputs": [],
   "source": [
    "import math\n",
    "import numpy as np\n",
    "import pandas as pd\n",
    "import matplotlib.pyplot as plt\n",
    "from cvxopt import solvers,matrix"
   ]
  },
  {
   "cell_type": "code",
   "execution_count": 2,
   "metadata": {},
   "outputs": [],
   "source": [
    "from sklearn.datasets import fetch_openml\n",
    "from sklearn.decomposition import PCA\n",
    "from sklearn.preprocessing import StandardScaler\n",
    "from sklearn import metrics\n",
    "from sklearn.model_selection import train_test_split\n",
    "from sklearn.metrics import classification_report, confusion_matrix\n",
    "from scipy.ndimage import interpolation, gaussian_filter"
   ]
  },
  {
   "cell_type": "code",
   "execution_count": 3,
   "metadata": {},
   "outputs": [],
   "source": [
    "f_digits_vec = \"digits4000_txt/digits4000_digits_vec.txt\"\n",
    "f_digits_label = \"digits4000_txt/digits4000_digits_labels.txt\"\n",
    "f_digits_trainset = \"digits4000_txt/digits4000_trainset.txt\"\n",
    "f_digits_testset = \"digits4000_txt/digits4000_testset.txt\""
   ]
  },
  {
   "cell_type": "code",
   "execution_count": 4,
   "metadata": {},
   "outputs": [],
   "source": [
    "digits_vec = np.loadtxt(f_digits_vec)\n",
    "digits_label = np.loadtxt(f_digits_label)\n",
    "digits_trainset = np.loadtxt(f_digits_trainset)\n",
    "digits_testset = np.loadtxt(f_digits_testset)"
   ]
  },
  {
   "cell_type": "code",
   "execution_count": 5,
   "metadata": {},
   "outputs": [
    {
     "name": "stdout",
     "output_type": "stream",
     "text": [
      "(4000, 784)\n",
      "(4000,)\n",
      "(2000, 2)\n",
      "(2000, 2)\n"
     ]
    }
   ],
   "source": [
    "print(digits_vec.shape)\n",
    "print(digits_label.shape)\n",
    "print(digits_trainset.shape)\n",
    "print(digits_testset.shape)"
   ]
  },
  {
   "cell_type": "code",
   "execution_count": 8,
   "metadata": {},
   "outputs": [],
   "source": [
    "import cv2 \n",
    "SZ = 28\n",
    "affine_flags = cv2.WARP_INVERSE_MAP|cv2.INTER_LINEAR\n",
    "def deskew(img):\n",
    "    m = cv2.moments(img)\n",
    "    if abs(m['mu02']) < 1e-2:\n",
    "        return img.copy()\n",
    "    skew = m['mu11']/m['mu02']\n",
    "    M = np.float32([[1, skew, -0.5*SZ*skew], [0, 1, 0]])\n",
    "    img = cv2.warpAffine(img,M,(SZ, SZ),flags=affine_flags)\n",
    "    return img"
   ]
  },
  {
   "cell_type": "code",
   "execution_count": 9,
   "metadata": {
    "scrolled": true
   },
   "outputs": [
    {
     "data": {
      "text/plain": [
       "Text(0.5, 1.0, 'After Deskewing')"
      ]
     },
     "execution_count": 9,
     "metadata": {},
     "output_type": "execute_result"
    },
    {
     "data": {
      "image/png": "[encoded data removed]",
      "text/plain": [
       "<Figure size 720x1440 with 2 Axes>"
      ]
     },
     "metadata": {
      "needs_background": "light"
     },
     "output_type": "display_data"
    }
   ],
   "source": [
    "#test deskew function\n",
    "fig1b, axs1b = plt.subplots(1,2, figsize=(10,20))\n",
    "first_image2 = digits_vec[102]\n",
    "pixels2 = first_image2.reshape((28, 28))\n",
    "desk_image2 = deskew(pixels2)\n",
    "axs1b[0].imshow(pixels2, cmap='gray')\n",
    "axs1b[0].set_title('Before Deskewing')\n",
    "axs1b[1].imshow(desk_image2, cmap='gray')\n",
    "axs1b[1].set_title('After Deskewing')"
   ]
  },
  {
   "cell_type": "code",
   "execution_count": 11,
   "metadata": {},
   "outputs": [],
   "source": [
    "import scipy\n",
    "from scipy.ndimage import interpolation, gaussian_filter\n",
    "def blurringGaussian(image):\n",
    "        return gaussian_filter(image, 1)"
   ]
  },
  {
   "cell_type": "code",
   "execution_count": 66,
   "metadata": {},
   "outputs": [
    {
     "data": {
      "text/plain": [
       "Text(0.5, 1.0, 'After Blurring')"
      ]
     },
     "execution_count": 66,
     "metadata": {},
     "output_type": "execute_result"
    },
    {
     "data": {
      "image/png": "[encoded data removed]",
      "text/plain": [
       "<Figure size 720x1440 with 2 Axes>"
      ]
     },
     "metadata": {
      "needs_background": "light"
     },
     "output_type": "display_data"
    }
   ],
   "source": [
    "#test blurring\n",
    "fig1b, axs1b = plt.subplots(1,2, figsize=(10,20))\n",
    "first_image2 = digits_vec[102]\n",
    "pixels2 = first_image2.reshape((28, 28))\n",
    "blurred_image2 = blurringGaussian(pixels2)\n",
    "axs1b[0].imshow(pixels2, cmap='gray')\n",
    "axs1b[0].set_title('Without Blurring')\n",
    "axs1b[1].imshow(blurred_image2, cmap='gray')\n",
    "axs1b[1].set_title('After Blurring')"
   ]
  },
  {
   "cell_type": "code",
   "execution_count": 13,
   "metadata": {},
   "outputs": [],
   "source": [
    "def deskewAll(X):\n",
    "    currents = []\n",
    "    for i in range(len(X)):\n",
    "        currents.append(deskew(X[i].reshape(28,28)).flatten())\n",
    "    return np.array(currents)\n",
    "\n",
    "digits_vec_deskewed = deskewAll(digits_vec)"
   ]
  },
  {
   "cell_type": "code",
   "execution_count": 67,
   "metadata": {},
   "outputs": [],
   "source": [
    "#Blurring all training data and test data set \n",
    "\n",
    "new_blur_digits_list = []\n",
    "for row in range(0, len(digits_vec_deskewed)):\n",
    "    one_digit = digits_vec_deskewed[row].reshape((28, 28))\n",
    "    new_blur_digits_list.append(blurringGaussian(one_digit.tolist()).flatten())\n",
    "\n",
    "new_blur_digits = np.array(new_blur_digits_list)"
   ]
  },
  {
   "cell_type": "code",
   "execution_count": 68,
   "metadata": {},
   "outputs": [
    {
     "data": {
      "image/png": "[encoded data removed]",
      "text/plain": [
       "<Figure size 432x288 with 1 Axes>"
      ]
     },
     "metadata": {
      "needs_background": "light"
     },
     "output_type": "display_data"
    }
   ],
   "source": [
    "#Sample checkt the effect: Deskewed + Blurred\n",
    "plt.imshow(new_blur_digits[102].reshape((28, 28)), cmap='gray')\n",
    "plt.show()"
   ]
  },
  {
   "cell_type": "code",
   "execution_count": 53,
   "metadata": {},
   "outputs": [],
   "source": [
    "from sklearn.preprocessing import StandardScaler\n",
    "scaler = StandardScaler()\n",
    "\n",
    "# Fit on training set only.\n",
    "scaler.fit(new_blur_digits)\n",
    "\n",
    "# Apply transform to all\n",
    "new_digit_sets = scaler.transform(new_blur_digits)"
   ]
  },
  {
   "cell_type": "code",
   "execution_count": 72,
   "metadata": {},
   "outputs": [],
   "source": [
    "from sklearn.decomposition import PCA\n",
    "pca_90 = PCA(0.95)\n",
    "pca_90.fit(new_digit_sets)\n",
    "new_digit_sets_pca = pca_90.transform(new_digit_sets)\n",
    "new_digit_sets_pca = pca_90.transform(new_digit_sets)"
   ]
  },
  {
   "cell_type": "code",
   "execution_count": 73,
   "metadata": {},
   "outputs": [],
   "source": [
    "# test_size: what proportion of original data is used for test set\n",
    "#train_img, test_img, train_lbl, test_lbl = train_test_split(\n",
    "#    digits_vec, digits_label, test_size=1/5.0, random_state=0)\n",
    "#train_img, test_img, train_lbl, test_lbl = train_test_split(\n",
    "#   new_blur_digits, digits_label, test_size=1/2.0, random_state=0)\n",
    "\n",
    "start_index = digits_trainset[0][1]\n",
    "end_index = digits_trainset[len(digits_trainset)-1][1]\n",
    "\n",
    "train_img = new_digit_sets_pca[int(start_index)-1:int(end_index)]\n",
    "train_lbl = digits_label[int(start_index)-1:int(end_index)]\n",
    "\n",
    "start_index = digits_testset[0][1]\n",
    "end_index = digits_testset[len(digits_testset)-1][1]\n",
    "\n",
    "test_img = new_digit_sets_pca[int(start_index)-1:int(end_index)]\n",
    "test_lbl = digits_label[int(start_index)-1:int(end_index)]"
   ]
  },
  {
   "cell_type": "code",
   "execution_count": 74,
   "metadata": {},
   "outputs": [
    {
     "name": "stdout",
     "output_type": "stream",
     "text": [
      "(2000, 77)\n",
      "(2000, 77)\n"
     ]
    }
   ],
   "source": [
    "print(train_img.shape)\n",
    "print(test_img.shape)"
   ]
  },
  {
   "cell_type": "code",
   "execution_count": 75,
   "metadata": {},
   "outputs": [
    {
     "name": "stderr",
     "output_type": "stream",
     "text": [
      "/Users/alfred/anaconda3/lib/python3.7/site-packages/sklearn/svm/base.py:193: FutureWarning: The default value of gamma will change from 'auto' to 'scale' in version 0.22 to account better for unscaled features. Set gamma explicitly to 'auto' or 'scale' to avoid this warning.\n",
      "  \"avoid this warning.\", FutureWarning)\n",
      "/Users/alfred/anaconda3/lib/python3.7/site-packages/sklearn/svm/base.py:193: FutureWarning: The default value of gamma will change from 'auto' to 'scale' in version 0.22 to account better for unscaled features. Set gamma explicitly to 'auto' or 'scale' to avoid this warning.\n",
      "  \"avoid this warning.\", FutureWarning)\n",
      "/Users/alfred/anaconda3/lib/python3.7/site-packages/sklearn/svm/base.py:193: FutureWarning: The default value of gamma will change from 'auto' to 'scale' in version 0.22 to account better for unscaled features. Set gamma explicitly to 'auto' or 'scale' to avoid this warning.\n",
      "  \"avoid this warning.\", FutureWarning)\n"
     ]
    },
    {
     "data": {
      "text/plain": [
       "SVC(C=1.0, cache_size=200, class_weight=None, coef0=0.0,\n",
       "    decision_function_shape='ovr', degree=3, gamma='auto_deprecated',\n",
       "    kernel='sigmoid', max_iter=-1, probability=False, random_state=None,\n",
       "    shrinking=True, tol=0.001, verbose=False)"
      ]
     },
     "execution_count": 75,
     "metadata": {},
     "output_type": "execute_result"
    }
   ],
   "source": [
    "#Compare the performance between different kernals, and then select the best one\n",
    "from sklearn.svm import SVC\n",
    "#polynomial\n",
    "svclassifier_poly = SVC(kernel='poly', degree=8)\n",
    "svclassifier_poly.fit(train_img, train_lbl)\n",
    "#Gaussian Kernel\n",
    "svclassifier_rbf = SVC(kernel='rbf')\n",
    "svclassifier_rbf.fit(train_img, train_lbl)\n",
    "#sigmoid Kernel\n",
    "svclassifier_sigmoid = SVC(kernel='sigmoid')\n",
    "svclassifier_sigmoid.fit(train_img, train_lbl)\n"
   ]
  },
  {
   "cell_type": "code",
   "execution_count": 76,
   "metadata": {},
   "outputs": [],
   "source": [
    "test_pred_poly = svclassifier_poly.predict(test_img)\n",
    "test_pred_rbf = svclassifier_rbf.predict(test_img)\n",
    "test_pred_sigmoid = svclassifier_sigmoid.predict(test_img)"
   ]
  },
  {
   "cell_type": "code",
   "execution_count": 77,
   "metadata": {},
   "outputs": [
    {
     "name": "stdout",
     "output_type": "stream",
     "text": [
      "[[143  24   2   2   3   2   3   1  20   0]\n",
      " [  0 189   0   1   1   0   4   1   3   1]\n",
      " [  0   7  94   7  12   4   1   5  60  10]\n",
      " [  1   1   5 110   3   7   3   3  67   0]\n",
      " [  0   6   4   2 129   3   2   2  43   9]\n",
      " [  0   7   0   4   2 109   7   1  66   4]\n",
      " [  0   2   1   0   3   3 151   7  32   1]\n",
      " [  0   0   6   6   6   1   0 145  26  10]\n",
      " [  0   5   9   2   3   7   3   1 168   2]\n",
      " [  1   4   2   3   9   1   0   2  30 148]]\n",
      "              precision    recall  f1-score   support\n",
      "\n",
      "         0.0       0.99      0.71      0.83       200\n",
      "         1.0       0.77      0.94      0.85       200\n",
      "         2.0       0.76      0.47      0.58       200\n",
      "         3.0       0.80      0.55      0.65       200\n",
      "         4.0       0.75      0.65      0.70       200\n",
      "         5.0       0.80      0.55      0.65       200\n",
      "         6.0       0.87      0.76      0.81       200\n",
      "         7.0       0.86      0.72      0.79       200\n",
      "         8.0       0.33      0.84      0.47       200\n",
      "         9.0       0.80      0.74      0.77       200\n",
      "\n",
      "    accuracy                           0.69      2000\n",
      "   macro avg       0.77      0.69      0.71      2000\n",
      "weighted avg       0.77      0.69      0.71      2000\n",
      "\n"
     ]
    }
   ],
   "source": [
    "print(confusion_matrix(test_lbl, test_pred_poly))\n",
    "print(classification_report(test_lbl, test_pred_poly))"
   ]
  },
  {
   "cell_type": "code",
   "execution_count": 78,
   "metadata": {},
   "outputs": [
    {
     "name": "stdout",
     "output_type": "stream",
     "text": [
      "[[143   0  55   0   0   1   1   0   0   0]\n",
      " [  0 190   3   0   0   0   5   1   0   1]\n",
      " [  0   0 191   2   3   1   1   1   1   0]\n",
      " [  0   0  86 105   3   3   0   1   2   0]\n",
      " [  0   1  63   0 128   0   0   0   1   7]\n",
      " [  0   0  74   5   0 111   6   0   4   0]\n",
      " [  0   0  56   0   1   0 142   0   1   0]\n",
      " [  0   1  74   0   0   0   0 119   1   5]\n",
      " [  0   0  71   4   5   4   4   0 110   2]\n",
      " [  0   2  36   6   7   0   0   6   0 143]]\n",
      "              precision    recall  f1-score   support\n",
      "\n",
      "         0.0       1.00      0.71      0.83       200\n",
      "         1.0       0.98      0.95      0.96       200\n",
      "         2.0       0.27      0.95      0.42       200\n",
      "         3.0       0.86      0.53      0.65       200\n",
      "         4.0       0.87      0.64      0.74       200\n",
      "         5.0       0.93      0.56      0.69       200\n",
      "         6.0       0.89      0.71      0.79       200\n",
      "         7.0       0.93      0.59      0.73       200\n",
      "         8.0       0.92      0.55      0.69       200\n",
      "         9.0       0.91      0.71      0.80       200\n",
      "\n",
      "    accuracy                           0.69      2000\n",
      "   macro avg       0.85      0.69      0.73      2000\n",
      "weighted avg       0.85      0.69      0.73      2000\n",
      "\n"
     ]
    }
   ],
   "source": [
    "print(confusion_matrix(test_lbl, test_pred_rbf))\n",
    "print(classification_report(test_lbl, test_pred_rbf))"
   ]
  },
  {
   "cell_type": "code",
   "execution_count": 79,
   "metadata": {},
   "outputs": [
    {
     "name": "stdout",
     "output_type": "stream",
     "text": [
      "[[88  0 33  3  1 53 16  4  2  0]\n",
      " [ 0 85  4  9 78 19  0  4  0  1]\n",
      " [68 14 48 13 12  1 33  7  4  0]\n",
      " [32 29 26 67  1 10  5 16 13  1]\n",
      " [17 51 10  1 65 12 18 12  4 10]\n",
      " [74 34  2  9  5 43 14  4  5 10]\n",
      " [39 41 28  1 10 22 47  0 12  0]\n",
      " [27 28 24 23  5 14  7 53  2 17]\n",
      " [35 51 11 18  4 11 15  1 41 13]\n",
      " [20 48  5  5 12  5  5 46  5 49]]\n",
      "              precision    recall  f1-score   support\n",
      "\n",
      "         0.0       0.22      0.44      0.29       200\n",
      "         1.0       0.22      0.42      0.29       200\n",
      "         2.0       0.25      0.24      0.25       200\n",
      "         3.0       0.45      0.34      0.38       200\n",
      "         4.0       0.34      0.33      0.33       200\n",
      "         5.0       0.23      0.21      0.22       200\n",
      "         6.0       0.29      0.23      0.26       200\n",
      "         7.0       0.36      0.27      0.31       200\n",
      "         8.0       0.47      0.20      0.28       200\n",
      "         9.0       0.49      0.24      0.33       200\n",
      "\n",
      "    accuracy                           0.29      2000\n",
      "   macro avg       0.33      0.29      0.29      2000\n",
      "weighted avg       0.33      0.29      0.29      2000\n",
      "\n"
     ]
    }
   ],
   "source": [
    "print(confusion_matrix(test_lbl, test_pred_sigmoid))\n",
    "print(classification_report(test_lbl, test_pred_sigmoid))"
   ]
  },
  {
   "cell_type": "markdown",
   "metadata": {},
   "source": [
    "Refer to the above result, the accuracy of SVM with using Gaussian Kernel is the best.\n",
    "So we start the do the parameter tunning on the SVM with Gaussian Kernal"
   ]
  },
  {
   "cell_type": "code",
   "execution_count": 80,
   "metadata": {},
   "outputs": [
    {
     "name": "stderr",
     "output_type": "stream",
     "text": [
      "/Users/alfred/anaconda3/lib/python3.7/site-packages/sklearn/model_selection/_split.py:1978: FutureWarning: The default value of cv will change from 3 to 5 in version 0.22. Specify it explicitly to silence this warning.\n",
      "  warnings.warn(CV_WARNING, FutureWarning)\n",
      "[Parallel(n_jobs=1)]: Using backend SequentialBackend with 1 concurrent workers.\n"
     ]
    },
    {
     "name": "stdout",
     "output_type": "stream",
     "text": [
      "Fitting 3 folds for each of 16 candidates, totalling 48 fits\n",
      "[CV] C=0.1, gamma=1, kernel=rbf ......................................\n",
      "[CV] .......... C=0.1, gamma=1, kernel=rbf, score=0.309, total=   0.5s\n",
      "[CV] C=0.1, gamma=1, kernel=rbf ......................................\n"
     ]
    },
    {
     "name": "stderr",
     "output_type": "stream",
     "text": [
      "[Parallel(n_jobs=1)]: Done   1 out of   1 | elapsed:    0.5s remaining:    0.0s\n"
     ]
    },
    {
     "name": "stdout",
     "output_type": "stream",
     "text": [
      "[CV] .......... C=0.1, gamma=1, kernel=rbf, score=0.504, total=   0.4s\n",
      "[CV] C=0.1, gamma=1, kernel=rbf ......................................\n"
     ]
    },
    {
     "name": "stderr",
     "output_type": "stream",
     "text": [
      "[Parallel(n_jobs=1)]: Done   2 out of   2 | elapsed:    0.9s remaining:    0.0s\n"
     ]
    },
    {
     "name": "stdout",
     "output_type": "stream",
     "text": [
      "[CV] .......... C=0.1, gamma=1, kernel=rbf, score=0.352, total=   0.5s\n",
      "[CV] C=0.1, gamma=0.1, kernel=rbf ....................................\n",
      "[CV] ........ C=0.1, gamma=0.1, kernel=rbf, score=0.146, total=   0.4s\n",
      "[CV] C=0.1, gamma=0.1, kernel=rbf ....................................\n",
      "[CV] ........ C=0.1, gamma=0.1, kernel=rbf, score=0.157, total=   0.5s\n",
      "[CV] C=0.1, gamma=0.1, kernel=rbf ....................................\n",
      "[CV] ........ C=0.1, gamma=0.1, kernel=rbf, score=0.144, total=   0.4s\n",
      "[CV] C=0.1, gamma=0.01, kernel=rbf ...................................\n",
      "[CV] ....... C=0.1, gamma=0.01, kernel=rbf, score=0.394, total=   0.4s\n",
      "[CV] C=0.1, gamma=0.01, kernel=rbf ...................................\n",
      "[CV] ....... C=0.1, gamma=0.01, kernel=rbf, score=0.466, total=   0.4s\n",
      "[CV] C=0.1, gamma=0.01, kernel=rbf ...................................\n",
      "[CV] ....... C=0.1, gamma=0.01, kernel=rbf, score=0.445, total=   0.5s\n",
      "[CV] C=0.1, gamma=0.001, kernel=rbf ..................................\n",
      "[CV] ...... C=0.1, gamma=0.001, kernel=rbf, score=0.721, total=   0.4s\n",
      "[CV] C=0.1, gamma=0.001, kernel=rbf ..................................\n",
      "[CV] ...... C=0.1, gamma=0.001, kernel=rbf, score=0.749, total=   0.3s\n",
      "[CV] C=0.1, gamma=0.001, kernel=rbf ..................................\n",
      "[CV] ...... C=0.1, gamma=0.001, kernel=rbf, score=0.752, total=   0.3s\n",
      "[CV] C=1, gamma=1, kernel=rbf ........................................\n",
      "[CV] ............ C=1, gamma=1, kernel=rbf, score=0.122, total=   0.4s\n",
      "[CV] C=1, gamma=1, kernel=rbf ........................................\n",
      "[CV] ............ C=1, gamma=1, kernel=rbf, score=0.122, total=   0.4s\n",
      "[CV] C=1, gamma=1, kernel=rbf ........................................\n",
      "[CV] ............ C=1, gamma=1, kernel=rbf, score=0.120, total=   0.4s\n",
      "[CV] C=1, gamma=0.1, kernel=rbf ......................................\n",
      "[CV] .......... C=1, gamma=0.1, kernel=rbf, score=0.294, total=   0.4s\n",
      "[CV] C=1, gamma=0.1, kernel=rbf ......................................\n",
      "[CV] .......... C=1, gamma=0.1, kernel=rbf, score=0.303, total=   0.4s\n",
      "[CV] C=1, gamma=0.1, kernel=rbf ......................................\n",
      "[CV] .......... C=1, gamma=0.1, kernel=rbf, score=0.280, total=   0.4s\n",
      "[CV] C=1, gamma=0.01, kernel=rbf .....................................\n",
      "[CV] ......... C=1, gamma=0.01, kernel=rbf, score=0.736, total=   0.4s\n",
      "[CV] C=1, gamma=0.01, kernel=rbf .....................................\n",
      "[CV] ......... C=1, gamma=0.01, kernel=rbf, score=0.730, total=   0.4s\n",
      "[CV] C=1, gamma=0.01, kernel=rbf .....................................\n",
      "[CV] ......... C=1, gamma=0.01, kernel=rbf, score=0.747, total=   0.4s\n",
      "[CV] C=1, gamma=0.001, kernel=rbf ....................................\n",
      "[CV] ........ C=1, gamma=0.001, kernel=rbf, score=0.882, total=   0.2s\n",
      "[CV] C=1, gamma=0.001, kernel=rbf ....................................\n",
      "[CV] ........ C=1, gamma=0.001, kernel=rbf, score=0.878, total=   0.2s\n",
      "[CV] C=1, gamma=0.001, kernel=rbf ....................................\n",
      "[CV] ........ C=1, gamma=0.001, kernel=rbf, score=0.877, total=   0.2s\n",
      "[CV] C=10, gamma=1, kernel=rbf .......................................\n",
      "[CV] ........... C=10, gamma=1, kernel=rbf, score=0.136, total=   0.4s\n",
      "[CV] C=10, gamma=1, kernel=rbf .......................................\n",
      "[CV] ........... C=10, gamma=1, kernel=rbf, score=0.137, total=   0.4s\n",
      "[CV] C=10, gamma=1, kernel=rbf .......................................\n",
      "[CV] ........... C=10, gamma=1, kernel=rbf, score=0.136, total=   0.4s\n",
      "[CV] C=10, gamma=0.1, kernel=rbf .....................................\n",
      "[CV] ......... C=10, gamma=0.1, kernel=rbf, score=0.327, total=   0.4s\n",
      "[CV] C=10, gamma=0.1, kernel=rbf .....................................\n",
      "[CV] ......... C=10, gamma=0.1, kernel=rbf, score=0.330, total=   0.4s\n",
      "[CV] C=10, gamma=0.1, kernel=rbf .....................................\n",
      "[CV] ......... C=10, gamma=0.1, kernel=rbf, score=0.303, total=   0.4s\n",
      "[CV] C=10, gamma=0.01, kernel=rbf ....................................\n",
      "[CV] ........ C=10, gamma=0.01, kernel=rbf, score=0.751, total=   0.4s\n",
      "[CV] C=10, gamma=0.01, kernel=rbf ....................................\n",
      "[CV] ........ C=10, gamma=0.01, kernel=rbf, score=0.746, total=   0.4s\n",
      "[CV] C=10, gamma=0.01, kernel=rbf ....................................\n",
      "[CV] ........ C=10, gamma=0.01, kernel=rbf, score=0.755, total=   0.5s\n",
      "[CV] C=10, gamma=0.001, kernel=rbf ...................................\n",
      "[CV] ....... C=10, gamma=0.001, kernel=rbf, score=0.891, total=   0.2s\n",
      "[CV] C=10, gamma=0.001, kernel=rbf ...................................\n",
      "[CV] ....... C=10, gamma=0.001, kernel=rbf, score=0.885, total=   0.2s\n",
      "[CV] C=10, gamma=0.001, kernel=rbf ...................................\n",
      "[CV] ....... C=10, gamma=0.001, kernel=rbf, score=0.898, total=   0.1s\n",
      "[CV] C=100, gamma=1, kernel=rbf ......................................\n",
      "[CV] .......... C=100, gamma=1, kernel=rbf, score=0.136, total=   0.5s\n",
      "[CV] C=100, gamma=1, kernel=rbf ......................................\n",
      "[CV] .......... C=100, gamma=1, kernel=rbf, score=0.137, total=   0.5s\n",
      "[CV] C=100, gamma=1, kernel=rbf ......................................\n",
      "[CV] .......... C=100, gamma=1, kernel=rbf, score=0.136, total=   0.5s\n",
      "[CV] C=100, gamma=0.1, kernel=rbf ....................................\n",
      "[CV] ........ C=100, gamma=0.1, kernel=rbf, score=0.327, total=   0.5s\n",
      "[CV] C=100, gamma=0.1, kernel=rbf ....................................\n",
      "[CV] ........ C=100, gamma=0.1, kernel=rbf, score=0.330, total=   0.4s\n",
      "[CV] C=100, gamma=0.1, kernel=rbf ....................................\n",
      "[CV] ........ C=100, gamma=0.1, kernel=rbf, score=0.303, total=   0.4s\n",
      "[CV] C=100, gamma=0.01, kernel=rbf ...................................\n",
      "[CV] ....... C=100, gamma=0.01, kernel=rbf, score=0.751, total=   0.4s\n",
      "[CV] C=100, gamma=0.01, kernel=rbf ...................................\n",
      "[CV] ....... C=100, gamma=0.01, kernel=rbf, score=0.746, total=   0.4s\n",
      "[CV] C=100, gamma=0.01, kernel=rbf ...................................\n",
      "[CV] ....... C=100, gamma=0.01, kernel=rbf, score=0.755, total=   0.4s\n",
      "[CV] C=100, gamma=0.001, kernel=rbf ..................................\n",
      "[CV] ...... C=100, gamma=0.001, kernel=rbf, score=0.885, total=   0.2s\n",
      "[CV] C=100, gamma=0.001, kernel=rbf ..................................\n",
      "[CV] ...... C=100, gamma=0.001, kernel=rbf, score=0.872, total=   0.2s\n",
      "[CV] C=100, gamma=0.001, kernel=rbf ..................................\n",
      "[CV] ...... C=100, gamma=0.001, kernel=rbf, score=0.905, total=   0.2s\n"
     ]
    },
    {
     "name": "stderr",
     "output_type": "stream",
     "text": [
      "[Parallel(n_jobs=1)]: Done  48 out of  48 | elapsed:   17.9s finished\n",
      "/Users/alfred/anaconda3/lib/python3.7/site-packages/sklearn/model_selection/_search.py:813: DeprecationWarning: The default of the `iid` parameter will change from True to False in version 0.22 and will be removed in 0.24. This will change numeric results when test-set sizes are unequal.\n",
      "  DeprecationWarning)\n"
     ]
    },
    {
     "data": {
      "text/plain": [
       "GridSearchCV(cv='warn', error_score='raise-deprecating',\n",
       "             estimator=SVC(C=1.0, cache_size=200, class_weight=None, coef0=0.0,\n",
       "                           decision_function_shape='ovr', degree=3,\n",
       "                           gamma='auto_deprecated', kernel='rbf', max_iter=-1,\n",
       "                           probability=False, random_state=None, shrinking=True,\n",
       "                           tol=0.001, verbose=False),\n",
       "             iid='warn', n_jobs=None,\n",
       "             param_grid={'C': [0.1, 1, 10, 100], 'gamma': [1, 0.1, 0.01, 0.001],\n",
       "                         'kernel': ['rbf']},\n",
       "             pre_dispatch='2*n_jobs', refit=True, return_train_score=False,\n",
       "             scoring=None, verbose=3)"
      ]
     },
     "execution_count": 80,
     "metadata": {},
     "output_type": "execute_result"
    }
   ],
   "source": [
    "#Use GridSearchCV to do Cross Validation, select the best parameters on C, gamma for rbf\n",
    "from sklearn.model_selection import GridSearchCV \n",
    "\n",
    "# defining parameter range \n",
    "param_grid = {'C': [0.1, 1, 10, 100], 'gamma': [1, 0.1, 0.01, 0.001], 'kernel': ['rbf']} \n",
    "\n",
    "grid = GridSearchCV(SVC(), param_grid, refit = True, verbose = 3) \n",
    "\n",
    "# fitting the model for grid search \n",
    "grid.fit(train_img, train_lbl) "
   ]
  },
  {
   "cell_type": "code",
   "execution_count": 62,
   "metadata": {},
   "outputs": [
    {
     "name": "stdout",
     "output_type": "stream",
     "text": [
      "{'C': 10, 'gamma': 0.001, 'kernel': 'rbf'}\n",
      "SVC(C=10, cache_size=200, class_weight=None, coef0=0.0,\n",
      "    decision_function_shape='ovr', degree=3, gamma=0.001, kernel='rbf',\n",
      "    max_iter=-1, probability=False, random_state=None, shrinking=True,\n",
      "    tol=0.001, verbose=False)\n"
     ]
    }
   ],
   "source": [
    "# print best parameter after tuning \n",
    "print(grid.best_params_) \n",
    "\n",
    "# print how our model looks after hyper-parameter tuning \n",
    "print(grid.best_estimator_) "
   ]
  },
  {
   "cell_type": "code",
   "execution_count": 81,
   "metadata": {},
   "outputs": [],
   "source": [
    "from datetime import datetime, time\n",
    "def date_diff_in_milliseconds(dt2, dt1):\n",
    "  timedelta = dt2 - dt1\n",
    "  return timedelta.total_seconds() * 1000"
   ]
  },
  {
   "cell_type": "code",
   "execution_count": 82,
   "metadata": {},
   "outputs": [
    {
     "name": "stdout",
     "output_type": "stream",
     "text": [
      "219.83700000000002\n"
     ]
    }
   ],
   "source": [
    "starttime = datetime.now()\n",
    "\n",
    "test_pred_rbf_tune = grid.predict(test_img)\n",
    "\n",
    "endtime = datetime.now()\n",
    "print(date_diff_in_milliseconds(endtime, starttime))"
   ]
  },
  {
   "cell_type": "code",
   "execution_count": 83,
   "metadata": {},
   "outputs": [
    {
     "name": "stdout",
     "output_type": "stream",
     "text": [
      "[[189   0   2   0   0   5   4   0   0   0]\n",
      " [  0 195   1   0   0   0   2   2   0   0]\n",
      " [  1   2 175   2   6   2   2   4   4   2]\n",
      " [  0   0  10 171   2   5   0   4   7   1]\n",
      " [  0   1   6   0 180   0   3   0   3   7]\n",
      " [  2   1   5   3   0 166  10   0  10   3]\n",
      " [  1   0   2   1   4   5 187   0   0   0]\n",
      " [  0   2   7   1   3   2   0 179   0   6]\n",
      " [  0   2   9   4  14   9   6   1 153   2]\n",
      " [  1   2   3   6   8   2   0   8   2 168]]\n",
      "              precision    recall  f1-score   support\n",
      "\n",
      "         0.0       0.97      0.94      0.96       200\n",
      "         1.0       0.95      0.97      0.96       200\n",
      "         2.0       0.80      0.88      0.83       200\n",
      "         3.0       0.91      0.85      0.88       200\n",
      "         4.0       0.83      0.90      0.86       200\n",
      "         5.0       0.85      0.83      0.84       200\n",
      "         6.0       0.87      0.94      0.90       200\n",
      "         7.0       0.90      0.90      0.90       200\n",
      "         8.0       0.85      0.77      0.81       200\n",
      "         9.0       0.89      0.84      0.86       200\n",
      "\n",
      "    accuracy                           0.88      2000\n",
      "   macro avg       0.88      0.88      0.88      2000\n",
      "weighted avg       0.88      0.88      0.88      2000\n",
      "\n"
     ]
    }
   ],
   "source": [
    "print(confusion_matrix(test_lbl, test_pred_rbf_tune))\n",
    "print(classification_report(test_lbl, test_pred_rbf_tune))"
   ]
  },
  {
   "cell_type": "code",
   "execution_count": null,
   "metadata": {},
   "outputs": [],
   "source": []
  }
 ],
 "metadata": {
  "kernelspec": {
   "display_name": "Python 3",
   "language": "python",
   "name": "python3"
  },
  "language_info": {
   "codemirror_mode": {
    "name": "ipython",
    "version": 3
   },
   "file_extension": ".py",
   "mimetype": "text/x-python",
   "name": "python",
   "nbconvert_exporter": "python",
   "pygments_lexer": "ipython3",
   "version": "3.7.3"
  }
 },
 "nbformat": 4,
 "nbformat_minor": 2
}
